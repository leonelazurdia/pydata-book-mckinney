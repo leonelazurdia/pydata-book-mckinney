{
 "cells": [
  {
   "cell_type": "markdown",
   "metadata": {},
   "source": [
    "1. Exercise for get()\n",
    "Task:\n",
    "\n",
    "Write a program to count how many times each word appears in a list of words. Use the get() \n",
    "function to initialize the count for words that aren’t already in the dictionary."
   ]
  },
  {
   "cell_type": "code",
   "execution_count": null,
   "metadata": {},
   "outputs": [
    {
     "name": "stdout",
     "output_type": "stream",
     "text": [
      "{'apple': 3, 'banana': 2, 'orange': 1}\n"
     ]
    }
   ],
   "source": [
    "words = [\"apple\", \"banana\", \"apple\", \"orange\", \"banana\", \"apple\"]\n",
    "\n",
    "count_word = {}\n",
    "\n",
    "for word in words:\n",
    "    count_word[word] = count_word.get(word,0)+1\n",
    "\n",
    "print(count_word)"
   ]
  },
  {
   "cell_type": "markdown",
   "metadata": {},
   "source": [
    "2. Exercise for setdefault()\n",
    "Task:\n",
    "\n",
    "Categorize a list of words by their first letter using setdefault() to initialize the dictionary keys.\n"
   ]
  },
  {
   "cell_type": "code",
   "execution_count": 2,
   "metadata": {},
   "outputs": [
    {
     "name": "stdout",
     "output_type": "stream",
     "text": [
      "{'a': ['apple', 'apricot'], 'b': ['banana', 'blueberry'], 'c': ['cherry']}\n"
     ]
    }
   ],
   "source": [
    "words = [\"apple\", \"apricot\", \"banana\", \"blueberry\", \"cherry\"]\n",
    "\n",
    "words_ordered_by_first_leter = {}\n",
    "\n",
    "for word in words:\n",
    "    fist_leter_of_word = word[0]\n",
    "    words_ordered_by_first_leter.setdefault(fist_leter_of_word, []).append(word)\n",
    "\n",
    "print(words_ordered_by_first_leter)"
   ]
  },
  {
   "cell_type": "markdown",
   "metadata": {},
   "source": [
    "3. Exercise for defaultdict()\n",
    "Task:\n",
    "\n",
    "Create a defaultdict to store student names grouped by their grades."
   ]
  },
  {
   "cell_type": "code",
   "execution_count": 6,
   "metadata": {},
   "outputs": [
    {
     "name": "stdout",
     "output_type": "stream",
     "text": [
      "defaultdict(<class 'list'>, {'A': ['Alice', 'Charlie'], 'B': ['Bob', 'Eve'], 'C': ['David']})\n"
     ]
    }
   ],
   "source": [
    "from collections import defaultdict\n",
    "\n",
    "students = [(\"Alice\", \"A\"), (\"Bob\", \"B\"), (\"Charlie\", \"A\"), (\"David\", \"C\"), (\"Eve\", \"B\")]\n",
    "\n",
    "# Create a defaultdict with list as the default value\n",
    "grade_groups = defaultdict(list)\n",
    "\n",
    "for student,grade in students:\n",
    "    grade_groups[grade].append(student)\n",
    "\n",
    "print(grade_groups)\n"
   ]
  },
  {
   "cell_type": "markdown",
   "metadata": {},
   "source": [
    "4. Exercise for Set Functions\n",
    "Task:\n",
    "\n",
    "Given two sets of numbers, find:\n",
    "\n",
    "    The union of both sets.\n",
    "    The intersection of both sets.\n",
    "    The elements in the first set but not in the second set.\n",
    "    The symmetric difference between the two sets."
   ]
  },
  {
   "cell_type": "code",
   "execution_count": 5,
   "metadata": {},
   "outputs": [
    {
     "name": "stdout",
     "output_type": "stream",
     "text": [
      "Union: {1, 2, 3, 4, 5, 6, 7, 8}\n",
      "Intersection: {4, 5}\n",
      "Diference: {1, 2, 3}\n"
     ]
    }
   ],
   "source": [
    "a = {1, 2, 3, 4, 5}\n",
    "b = {4, 5, 6, 7, 8}\n",
    "\n",
    "#Union\n",
    "union_result = a.union(b)\n",
    "print(\"Union:\", union_result)\n",
    "\n",
    "#Intersection\n",
    "intersection_result = a.intersection(b)\n",
    "print(\"Intersection:\",intersection_result)\n",
    "\n",
    "#Difference\n",
    "difference_result = a.difference(b)\n",
    "print(\"Diference:\",difference_result)"
   ]
  },
  {
   "cell_type": "markdown",
   "metadata": {},
   "source": [
    "### Sorted"
   ]
  },
  {
   "cell_type": "code",
   "execution_count": 7,
   "metadata": {},
   "outputs": [
    {
     "data": {
      "text/plain": [
       "[1, 2, 4, 5, 6, 6, 7, 7, 8, 9]"
      ]
     },
     "execution_count": 7,
     "metadata": {},
     "output_type": "execute_result"
    }
   ],
   "source": [
    "sorted([7,5,9,8,4,6,2,1,6,7])\n"
   ]
  },
  {
   "cell_type": "code",
   "execution_count": 11,
   "metadata": {},
   "outputs": [
    {
     "name": "stdout",
     "output_type": "stream",
     "text": [
      "El tipo sorted es:  <class 'list'>\n",
      "[' ', ' ', ' ', 'a', 'a', 'a', 'a', 'c', 'd', 'e', 'e', 'e', 'i', 'l', 'l', 'l', 'l', 'm', 'n', 'o', 'o', 'o', 'r', 'r', 'r', 's', 's', 'u', 'z']\n"
     ]
    }
   ],
   "source": [
    "myNameSorted =  sorted(\"carlos leonel morales azurdia\")\n",
    "\n",
    "print(\"El tipo sorted es: \",type(myNameSorted))\n",
    "\n",
    "print(myNameSorted)"
   ]
  },
  {
   "cell_type": "markdown",
   "metadata": {},
   "source": [
    "### Zip"
   ]
  },
  {
   "cell_type": "code",
   "execution_count": 12,
   "metadata": {},
   "outputs": [],
   "source": [
    "seq1 = [\"foo\", \"bar\", \"baz\"]\n",
    "seq2 = [\"one\", \"two\", \"three\"]\n"
   ]
  },
  {
   "cell_type": "code",
   "execution_count": 17,
   "metadata": {},
   "outputs": [
    {
     "name": "stdout",
     "output_type": "stream",
     "text": [
      "<zip object at 0x0000013A13293080>\n",
      "listseq =  [('foo', 'one'), ('bar', 'two'), ('baz', 'three')]\n",
      "---> ('foo', 'one')\n"
     ]
    }
   ],
   "source": [
    "zipped = zip(seq1, seq2)\n",
    "print(zipped)\n",
    "# We've to convert zip to list\n",
    "listSeq = list(zipped)\n",
    "print(\"listseq = \",listSeq)\n",
    "print(\"--->\",listSeq[0])"
   ]
  },
  {
   "cell_type": "markdown",
   "metadata": {},
   "source": [
    "# otros ejercicios"
   ]
  },
  {
   "cell_type": "markdown",
   "metadata": {},
   "source": [
    "## Nivel Fácil"
   ]
  },
  {
   "cell_type": "markdown",
   "metadata": {},
   "source": [
    "### EJERCICIOS CON LIST\n"
   ]
  },
  {
   "cell_type": "code",
   "execution_count": 11,
   "metadata": {},
   "outputs": [
    {
     "name": "stdout",
     "output_type": "stream",
     "text": [
      "[1, 2, 3, 4, 5]\n",
      "suma: 15\n"
     ]
    }
   ],
   "source": [
    "#1. Suma de elementos de una lista:\n",
    "nums = [1,2,3,4,5]\n",
    "print(nums)\n",
    "suma = 0\n",
    "for num in nums:\n",
    "    suma += num\n",
    "print(f'suma: {suma}') \n",
    "\n",
    "\n",
    "\n"
   ]
  },
  {
   "cell_type": "code",
   "execution_count": 13,
   "metadata": {},
   "outputs": [
    {
     "name": "stdout",
     "output_type": "stream",
     "text": [
      "el numero mas grande es: 30\n"
     ]
    }
   ],
   "source": [
    "#Encuentra el número mayor:\n",
    "\n",
    "    #Encuentra el número más grande en la lista:\n",
    "nums = [10, 20, 5, 30, 15]\n",
    "masGrande = 0\n",
    "for num in nums:\n",
    "    if masGrande < num:\n",
    "        masGrande = num\n",
    "    \n",
    "print(f'el numero mas grande es: {masGrande}')\n",
    "\n",
    "\n"
   ]
  },
  {
   "cell_type": "code",
   "execution_count": 23,
   "metadata": {},
   "outputs": [
    {
     "name": "stdout",
     "output_type": "stream",
     "text": [
      "sin duplicados: [1, 2, 3, 4, 5]\n",
      "{1: 0, 2: 0, 3: 0, 4: 0, 5: 0}\n",
      "lista sin duplicados: [1, 2, 3, 4, 5]\n",
      "[1, 2, 3, 4, 5]\n"
     ]
    }
   ],
   "source": [
    "#Eliminar los duplicados\n",
    "nums = [1, 2, 2, 3, 4, 4, 4, 4, 5]\n",
    "\n",
    "withoutDiplicates = set(nums)\n",
    "withoutDiplicates = list(withoutDiplicates)\n",
    "\n",
    "print(f'sin duplicados: {withoutDiplicates}')\n",
    "\n",
    "\n",
    "#other form\n",
    "newNums = []\n",
    "empty_dict = {}\n",
    "for num in nums:\n",
    "    empty_dict.setdefault(num,0)\n",
    "\n",
    "for clave, valor in empty_dict.items():\n",
    "    newNums.append(clave)\n",
    "\n",
    "\n",
    "\n",
    "print(empty_dict)\n",
    "print(f'lista sin duplicados: {newNums}')\n",
    "\n",
    "#otra forma\n",
    "def eliminar_duplicados_con_diccionario(lista):\n",
    "    sin_duplicados = []\n",
    "    ocurrencias = {}\n",
    "    \n",
    "    for elemento in lista:\n",
    "        if elemento not in ocurrencias:\n",
    "            sin_duplicados.append(elemento)\n",
    "            ocurrencias[elemento] = True\n",
    "    \n",
    "    return sin_duplicados\n",
    "\n",
    "# Ejemplo de uso:\n",
    "\n",
    "resultado = eliminar_duplicados_con_diccionario(nums)\n",
    "print(resultado)\n",
    "\n",
    "\n",
    "\n"
   ]
  },
  {
   "cell_type": "markdown",
   "metadata": {},
   "source": [
    "### EJERCICIOS CON SET\n"
   ]
  },
  {
   "cell_type": "code",
   "execution_count": 24,
   "metadata": {},
   "outputs": [
    {
     "name": "stdout",
     "output_type": "stream",
     "text": [
      "intersection {3, 4}\n"
     ]
    }
   ],
   "source": [
    "#Intersección de conjuntos:\n",
    "\n",
    "    #Encuentra los elementos comunes entre dos conjuntos:\n",
    "\n",
    "a = {1, 2, 3, 4}\n",
    "b = {3, 4, 5, 6}\n",
    "\n",
    "intersection = a.intersection(b)\n",
    "print(f'intersection {intersection}')"
   ]
  },
  {
   "cell_type": "code",
   "execution_count": 26,
   "metadata": {},
   "outputs": [
    {
     "name": "stdout",
     "output_type": "stream",
     "text": [
      "union: {7, 8, 9, 10, 11}\n"
     ]
    }
   ],
   "source": [
    "#Unión de conjuntos:\n",
    "\n",
    "    #Combina dos conjuntos y elimina los duplicados.\n",
    "c = {7, 8, 9}\n",
    "d = {9, 10, 11}\n",
    "\n",
    "union = c.union(d)\n",
    "print(f'union: {union}')"
   ]
  },
  {
   "cell_type": "code",
   "execution_count": 31,
   "metadata": {},
   "outputs": [
    {
     "name": "stdout",
     "output_type": "stream",
     "text": [
      "no existe el numero: 5\n"
     ]
    }
   ],
   "source": [
    "#Verificar un elemento:\n",
    "\n",
    "    #Escribe un programa que verifique si el número 5 está en un conjunto:\n",
    "\n",
    "\n",
    "def existe_numero(conjunto ={}, numero_buscado =0):\n",
    "    for item in e:\n",
    "        if(numero_buscado == item):\n",
    "            return True\n",
    "            \n",
    "    return False\n",
    "\n",
    "e = {1, 2, 3, 4, 6}\n",
    "numero_buscado = 5\n",
    "        \n",
    "result = existe_numero(e,numero_buscado)\n",
    "if result:\n",
    "    print(f'si existe el numero: {numero_buscado}')\n",
    "else:\n",
    "    print(f'no existe el numero: {numero_buscado}')\n"
   ]
  },
  {
   "cell_type": "markdown",
   "metadata": {},
   "source": [
    "### DICCIONARIOS"
   ]
  },
  {
   "cell_type": "code",
   "execution_count": null,
   "metadata": {},
   "outputs": [],
   "source": []
  }
 ],
 "metadata": {
  "kernelspec": {
   "display_name": "Python 3",
   "language": "python",
   "name": "python3"
  },
  "language_info": {
   "codemirror_mode": {
    "name": "ipython",
    "version": 3
   },
   "file_extension": ".py",
   "mimetype": "text/x-python",
   "name": "python",
   "nbconvert_exporter": "python",
   "pygments_lexer": "ipython3",
   "version": "3.11.7"
  }
 },
 "nbformat": 4,
 "nbformat_minor": 2
}
